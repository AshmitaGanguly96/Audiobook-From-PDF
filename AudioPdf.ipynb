{
  "nbformat": 4,
  "nbformat_minor": 0,
  "metadata": {
    "colab": {
      "name": "AudioPdf",
      "provenance": [],
      "collapsed_sections": []
    },
    "kernelspec": {
      "name": "python3",
      "display_name": "Python 3"
    }
  },
  "cells": [
    {
      "cell_type": "code",
      "metadata": {
        "id": "aBmLijTpCjW9"
      },
      "source": [
        "import pdftotext"
      ],
      "execution_count": 24,
      "outputs": []
    },
    {
      "cell_type": "code",
      "metadata": {
        "id": "EVp8kBU0Cmrz"
      },
      "source": [
        "with open('frost.pdf','rb') as text:\n",
        "  read=pdftotext.PDF(text)\n"
      ],
      "execution_count": 25,
      "outputs": []
    },
    {
      "cell_type": "code",
      "metadata": {
        "id": "0PDcRlMSDmZY"
      },
      "source": [
        "read_total= ''\n",
        "for i in read:\n",
        "  read_total+=i"
      ],
      "execution_count": 27,
      "outputs": []
    },
    {
      "cell_type": "code",
      "metadata": {
        "id": "mV8SdZ76EDCV"
      },
      "source": [
        "from gtts import gTTS"
      ],
      "execution_count": 28,
      "outputs": []
    },
    {
      "cell_type": "code",
      "metadata": {
        "id": "J_-mHRfAEInk"
      },
      "source": [
        "read_final = gTTS(text=read_total,lang='en',slow=False)\n",
        "read_final.save(\"ultimateaudio.mp3\")"
      ],
      "execution_count": 33,
      "outputs": []
    }
  ]
}